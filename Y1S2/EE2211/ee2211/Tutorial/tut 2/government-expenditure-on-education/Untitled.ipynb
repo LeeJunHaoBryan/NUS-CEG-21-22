{
 "cells": [
  {
   "cell_type": "code",
   "execution_count": null,
   "id": "7704c6c7-84c3-413d-b8ed-e3e4d63c1c5f",
   "metadata": {},
   "outputs": [],
   "source": []
  }
 ],
 "metadata": {
  "kernelspec": {
   "display_name": "Python 3",
   "language": "python",
   "name": "python3"
  },
  "language_info": {
   "codemirror_mode": {
    "name": "ipython",
    "version": 3
   },
   "file_extension": ".py",
   "mimetype": "text/x-python",
   "name": "python",
   "nbconvert_exporter": "python",
   "pygments_lexer": "ipython3",
   "version": "3.7.13"
  }
 },
 "nbformat": 4,
 "nbformat_minor": 5
}
