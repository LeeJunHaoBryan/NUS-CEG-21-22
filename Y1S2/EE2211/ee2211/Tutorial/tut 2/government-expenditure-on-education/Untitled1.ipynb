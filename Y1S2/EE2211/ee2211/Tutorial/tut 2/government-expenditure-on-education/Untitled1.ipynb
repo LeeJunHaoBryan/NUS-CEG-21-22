{
 "cells": [
  {
   "cell_type": "code",
   "execution_count": 1,
   "id": "27026d46-c35e-401a-b5ec-2021b5d1466d",
   "metadata": {},
   "outputs": [],
   "source": [
    "import pandas as pd"
   ]
  },
  {
   "cell_type": "code",
   "execution_count": 2,
   "id": "44324565-88ac-4244-88e3-41fd0f99c2f1",
   "metadata": {},
   "outputs": [
    {
     "ename": "NameError",
     "evalue": "name 'Downloads' is not defined",
     "output_type": "error",
     "traceback": [
      "\u001b[0;31m---------------------------------------------------------------------------\u001b[0m",
      "\u001b[0;31mNameError\u001b[0m                                 Traceback (most recent call last)",
      "\u001b[0;32m<ipython-input-2-b8f233d0e42a>\u001b[0m in \u001b[0;36m<module>\u001b[0;34m\u001b[0m\n\u001b[0;32m----> 1\u001b[0;31m \u001b[0mdf\u001b[0m\u001b[0;34m=\u001b[0m\u001b[0mpd\u001b[0m\u001b[0;34m.\u001b[0m\u001b[0mread_csv\u001b[0m\u001b[0;34m(\u001b[0m\u001b[0mDownloads\u001b[0m\u001b[0;34m/\u001b[0m\u001b[0mgovernmernt\u001b[0m\u001b[0;34m-\u001b[0m\u001b[0mexpenditure\u001b[0m\u001b[0;34m-\u001b[0m\u001b[0mon\u001b[0m\u001b[0;34m-\u001b[0m\u001b[0meducation\u001b[0m\u001b[0;34m.\u001b[0m\u001b[0mcsv\u001b[0m\u001b[0;34m)\u001b[0m\u001b[0;34m\u001b[0m\u001b[0;34m\u001b[0m\u001b[0m\n\u001b[0m",
      "\u001b[0;31mNameError\u001b[0m: name 'Downloads' is not defined"
     ]
    }
   ],
   "source": [
    "df=pd.read_csv(Downloads/governmernt-expenditure-on-education.csv)\n"
   ]
  },
  {
   "cell_type": "code",
   "execution_count": 3,
   "id": "6e6952a7-5adb-4eea-975e-04663cf6a127",
   "metadata": {},
   "outputs": [
    {
     "ename": "NameError",
     "evalue": "name 'government' is not defined",
     "output_type": "error",
     "traceback": [
      "\u001b[0;31m---------------------------------------------------------------------------\u001b[0m",
      "\u001b[0;31mNameError\u001b[0m                                 Traceback (most recent call last)",
      "\u001b[0;32m<ipython-input-3-9e5b2360df62>\u001b[0m in \u001b[0;36m<module>\u001b[0;34m\u001b[0m\n\u001b[0;32m----> 1\u001b[0;31m \u001b[0mdf\u001b[0m\u001b[0;34m=\u001b[0m\u001b[0mpd\u001b[0m\u001b[0;34m.\u001b[0m\u001b[0mread_csv\u001b[0m\u001b[0;34m(\u001b[0m\u001b[0mgovernment\u001b[0m\u001b[0;34m-\u001b[0m\u001b[0mexpenditure\u001b[0m\u001b[0;34m-\u001b[0m\u001b[0mon\u001b[0m\u001b[0;34m-\u001b[0m\u001b[0meducation\u001b[0m\u001b[0;34m.\u001b[0m\u001b[0mcsv\u001b[0m\u001b[0;34m)\u001b[0m\u001b[0;34m\u001b[0m\u001b[0;34m\u001b[0m\u001b[0m\n\u001b[0m",
      "\u001b[0;31mNameError\u001b[0m: name 'government' is not defined"
     ]
    }
   ],
   "source": [
    "df=pd.read_csv(government-expenditure-on-education.csv)\n"
   ]
  },
  {
   "cell_type": "code",
   "execution_count": 4,
   "id": "146d7151-a6d0-4ba6-9379-461f72e0be97",
   "metadata": {},
   "outputs": [],
   "source": [
    "df=pd.read_csv('government-expenditure-on-education.csv')\n"
   ]
  },
  {
   "cell_type": "code",
   "execution_count": 7,
   "id": "f3b15b1c-c916-4f69-acfc-742e8e8a13e0",
   "metadata": {},
   "outputs": [],
   "source": [
    "df=pd.read_csv('government-expenditure-on-education.csv')\n"
   ]
  },
  {
   "cell_type": "code",
   "execution_count": null,
   "id": "e92efe57-992c-43fb-a3ee-37a2e1a63788",
   "metadata": {},
   "outputs": [],
   "source": []
  },
  {
   "cell_type": "code",
   "execution_count": null,
   "id": "1c6bc674-b0ea-462a-9cf9-05768df927d6",
   "metadata": {},
   "outputs": [],
   "source": []
  }
 ],
 "metadata": {
  "kernelspec": {
   "display_name": "Python 3",
   "language": "python",
   "name": "python3"
  },
  "language_info": {
   "codemirror_mode": {
    "name": "ipython",
    "version": 3
   },
   "file_extension": ".py",
   "mimetype": "text/x-python",
   "name": "python",
   "nbconvert_exporter": "python",
   "pygments_lexer": "ipython3",
   "version": "3.7.13"
  }
 },
 "nbformat": 4,
 "nbformat_minor": 5
}
